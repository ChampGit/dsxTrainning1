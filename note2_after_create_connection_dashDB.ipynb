{
    "metadata": {
        "kernelspec": {
            "language": "python", 
            "display_name": "Python 2 with Spark 2.0", 
            "name": "python2-spark20"
        }, 
        "language_info": {
            "nbconvert_exporter": "python", 
            "name": "python", 
            "pygments_lexer": "ipython2", 
            "version": "2.7.11", 
            "file_extension": ".py", 
            "codemirror_mode": {
                "version": 2, 
                "name": "ipython"
            }, 
            "mimetype": "text/x-python"
        }
    }, 
    "nbformat": 4, 
    "cells": [
        {
            "execution_count": 2, 
            "metadata": {}, 
            "cell_type": "code", 
            "outputs": [], 
            "source": "import ibmdbpy\nfrom ibmdbpy import IdaDataBase, IdaDataFrame\n\nimport pandas as pd\nimport numpy as np\nfrom ibmdbpy import IdaDataBase, IdaDataFrame\n\n"
        }, 
        {
            "execution_count": 8, 
            "metadata": {}, 
            "cell_type": "code", 
            "outputs": [
                {
                    "execution_count": 8, 
                    "metadata": {}, 
                    "data": {
                        "text/html": "<div>\n<table border=\"1\" class=\"dataframe\">\n  <thead>\n    <tr style=\"text-align: right;\">\n      <th></th>\n      <th>ROOMNO</th>\n      <th>MINUTESOCCUPIED</th>\n      <th>BOCCUPIED</th>\n      <th>NUMDOCTORINROOM</th>\n      <th>BDOCTORINROOM</th>\n      <th>MINUTESTOILET</th>\n      <th>BTOILET</th>\n      <th>MINUTESWAITING</th>\n      <th>BWATING</th>\n      <th>STATEID</th>\n      <th>STATE</th>\n      <th>SYMPTONCATEGORIESID</th>\n      <th>SYMPTONCATEGORIES</th>\n      <th>DOCTORDEPT</th>\n    </tr>\n  </thead>\n  <tbody>\n    <tr>\n      <th>0</th>\n      <td>1</td>\n      <td>57</td>\n      <td>1</td>\n      <td>0</td>\n      <td>0</td>\n      <td>15</td>\n      <td>1</td>\n      <td>21</td>\n      <td>1</td>\n      <td>2</td>\n      <td>Check In</td>\n      <td>5</td>\n      <td>GI</td>\n      <td>GI</td>\n    </tr>\n    <tr>\n      <th>1</th>\n      <td>2</td>\n      <td>9</td>\n      <td>1</td>\n      <td>1</td>\n      <td>1</td>\n      <td>10</td>\n      <td>1</td>\n      <td>19</td>\n      <td>1</td>\n      <td>2</td>\n      <td>Check In</td>\n      <td>1</td>\n      <td>BONE</td>\n      <td>BONE</td>\n    </tr>\n    <tr>\n      <th>2</th>\n      <td>3</td>\n      <td>0</td>\n      <td>0</td>\n      <td>0</td>\n      <td>0</td>\n      <td>0</td>\n      <td>0</td>\n      <td>0</td>\n      <td>0</td>\n      <td>3</td>\n      <td>Treatment</td>\n      <td>3</td>\n      <td>EYE</td>\n      <td>EYE</td>\n    </tr>\n    <tr>\n      <th>3</th>\n      <td>4</td>\n      <td>19</td>\n      <td>1</td>\n      <td>1</td>\n      <td>1</td>\n      <td>2</td>\n      <td>1</td>\n      <td>13</td>\n      <td>1</td>\n      <td>1</td>\n      <td>Appointed</td>\n      <td>1</td>\n      <td>BONE</td>\n      <td>BONE</td>\n    </tr>\n    <tr>\n      <th>4</th>\n      <td>5</td>\n      <td>1</td>\n      <td>1</td>\n      <td>0</td>\n      <td>0</td>\n      <td>14</td>\n      <td>1</td>\n      <td>27</td>\n      <td>1</td>\n      <td>5</td>\n      <td>Check Out</td>\n      <td>6</td>\n      <td>CHEST</td>\n      <td>CHEST</td>\n    </tr>\n  </tbody>\n</table>\n</div>", 
                        "text/plain": "   ROOMNO  MINUTESOCCUPIED  BOCCUPIED  NUMDOCTORINROOM  BDOCTORINROOM  \\\n0       1               57          1                0              0   \n1       2                9          1                1              1   \n2       3                0          0                0              0   \n3       4               19          1                1              1   \n4       5                1          1                0              0   \n\n   MINUTESTOILET  BTOILET  MINUTESWAITING  BWATING  STATEID      STATE  \\\n0             15        1              21        1        2   Check In   \n1             10        1              19        1        2   Check In   \n2              0        0               0        0        3  Treatment   \n3              2        1              13        1        1  Appointed   \n4             14        1              27        1        5  Check Out   \n\n   SYMPTONCATEGORIESID SYMPTONCATEGORIES DOCTORDEPT  \n0                    5                GI         GI  \n1                    1              BONE       BONE  \n2                    3               EYE        EYE  \n3                    1              BONE       BONE  \n4                    6             CHEST      CHEST  "
                    }, 
                    "output_type": "execute_result"
                }
            ], 
            "source": "# The code was removed by DSX for sharing."
        }, 
        {
            "execution_count": 6, 
            "metadata": {
                "collapsed": true
            }, 
            "cell_type": "code", 
            "outputs": [], 
            "source": "# The code was removed by DSX for sharing."
        }, 
        {
            "execution_count": 4, 
            "metadata": {}, 
            "cell_type": "code", 
            "outputs": [
                {
                    "execution_count": 4, 
                    "metadata": {}, 
                    "data": {
                        "text/plain": "Row(ROOMNO=1, MINUTESOCCUPIED=57, BOCCUPIED=1, NUMDOCTORINROOM=0, BDOCTORINROOM=0, MINUTESTOILET=15, BTOILET=1, MINUTESWAITING=21, BWATING=1, STATEID=2, STATE=u'Check In', SYMPTONCATEGORIESID=5, SYMPTONCATEGORIES=u'GI', DOCTORDEPT=u'GI')"
                    }, 
                    "output_type": "execute_result"
                }
            ], 
            "source": "# The code was removed by DSX for sharing."
        }, 
        {
            "execution_count": 11, 
            "metadata": {}, 
            "cell_type": "code", 
            "outputs": [
                {
                    "output_type": "error", 
                    "ename": "NameError", 
                    "evalue": "name 'random' is not defined", 
                    "traceback": [
                        "\u001b[0;31m\u001b[0m", 
                        "\u001b[0;31mNameError\u001b[0mTraceback (most recent call last)", 
                        "\u001b[0;32m<ipython-input-11-593c94d8d8fd>\u001b[0m in \u001b[0;36m<module>\u001b[0;34m()\u001b[0m\n\u001b[0;32m----> 1\u001b[0;31m \u001b[0mrand_dat\u001b[0m \u001b[0;34m=\u001b[0m \u001b[0mpd\u001b[0m\u001b[0;34m.\u001b[0m\u001b[0mDataFrame\u001b[0m\u001b[0;34m(\u001b[0m\u001b[0mnp\u001b[0m\u001b[0;34m.\u001b[0m\u001b[0mrandom\u001b[0m\u001b[0;34m(\u001b[0m\u001b[0mrandom\u001b[0m\u001b[0;34m(\u001b[0m\u001b[0;36m1000\u001b[0m\u001b[0;34m,\u001b[0m\u001b[0;36m3\u001b[0m\u001b[0;34m)\u001b[0m\u001b[0;34m)\u001b[0m\u001b[0;34m,\u001b[0m\u001b[0mcolumns\u001b[0m\u001b[0;34m=\u001b[0m\u001b[0;34m[\u001b[0m\u001b[0;34m'a'\u001b[0m\u001b[0;34m,\u001b[0m\u001b[0;34m'b'\u001b[0m\u001b[0;34m,\u001b[0m\u001b[0;34m'c'\u001b[0m\u001b[0;34m]\u001b[0m\u001b[0;34m)\u001b[0m\u001b[0;34m\u001b[0m\u001b[0m\n\u001b[0m\u001b[1;32m      2\u001b[0m \u001b[0mrand_dat\u001b[0m\u001b[0;34m.\u001b[0m\u001b[0mhead\u001b[0m\u001b[0;34m(\u001b[0m\u001b[0;34m)\u001b[0m\u001b[0;34m\u001b[0m\u001b[0m\n", 
                        "\u001b[0;31mNameError\u001b[0m: name 'random' is not defined"
                    ]
                }
            ], 
            "source": "rand_dat = pd.DataFrame(np.random(random(1000,3)),columns=['a','b','c'])\nrand_dat.head()"
        }, 
        {
            "metadata": {}, 
            "cell_type": "raw", 
            "source": ""
        }
    ], 
    "nbformat_minor": 1
}